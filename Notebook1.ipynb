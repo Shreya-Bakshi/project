{
 "cells": [
  {
   "cell_type": "code",
   "execution_count": 22,
   "id": "22e1568d",
   "metadata": {},
   "outputs": [
    {
     "name": "stdout",
     "output_type": "stream",
     "text": [
      "True\n",
      "False\n"
     ]
    }
   ],
   "source": [
    "# Question 1\n",
    "\n",
    "# import the necessary libraries\n",
    "from typing import List, Tuple\n",
    "\n",
    "# function to check if two sentences are equivalent\n",
    "def sentence_check(sentence1: str, sentence2: str, synonyms: List[Tuple[str, str]]) -> bool:\n",
    "    # convert the sentences to lowercase\n",
    "    sentence1 = sentence1.lower()\n",
    "    sentence2 = sentence2.lower()\n",
    "    \n",
    "    # split the sentences into a list of words\n",
    "    words1 = sentence1.split()\n",
    "    words2 = sentence2.split()\n",
    "    \n",
    "    # check if the number of words in the sentences are not equal\n",
    "    if len(words1) != len(words2):\n",
    "        return False\n",
    "    \n",
    "    # iterate through the synonyms and replace the words in the sentences\n",
    "    for syn in synonyms:\n",
    "        sentence1 = sentence1.replace(syn[0], syn[1])\n",
    "        sentence2 = sentence2.replace(syn[0], syn[1])\n",
    "        \n",
    "    # check if the modified sentences are equal\n",
    "    if sentence1 == sentence2:\n",
    "        return True\n",
    "    else:\n",
    "        return False\n",
    "\n",
    "# test the function\n",
    "synonyms = [(\"eat\", \"consume\"), (\"easy\", \"simple\")]\n",
    "sentence1 = \"I like to eat pizza\"\n",
    "sentence2 = \"I like to consume pizza\"\n",
    "print(sentence_check(sentence1, sentence2, synonyms)) # should print True\n",
    "\n",
    "sentence1 = \"I am a bus\"\n",
    "sentence2 = \"I am a teacher\"\n",
    "print(sentence_check(sentence1, sentence2, synonyms)) # should print False\n"
   ]
  },
  {
   "cell_type": "code",
   "execution_count": 23,
   "id": "408215e5",
   "metadata": {},
   "outputs": [
    {
     "name": "stdout",
     "output_type": "stream",
     "text": [
      "True\n",
      "True\n"
     ]
    }
   ],
   "source": [
    "#Question 2 \n",
    "\n",
    "# import the necessary libraries\n",
    "from typing import List, Tuple\n",
    "\n",
    "# function to check if two sentences are equivalent\n",
    "def sentence_check_2(sentence1: str, sentence2: str, synonyms: List[Tuple[str, str]]) -> bool:\n",
    "    # convert the sentences to lowercase\n",
    "    sentence1 = sentence1.lower()\n",
    "    sentence2 = sentence2.lower()\n",
    "    \n",
    "    # split the sentences into a list of words\n",
    "    words1 = sentence1.split()\n",
    "    words2 = sentence2.split()\n",
    "    \n",
    "    # check if the number of words in the sentences are not equal\n",
    "    if len(words1) != len(words2):\n",
    "        return False\n",
    "    \n",
    "    # create a dictionary to store the synonyms\n",
    "    synonyms_dict = {}\n",
    "    for syn in synonyms:\n",
    "        if syn[0] not in synonyms_dict:\n",
    "            synonyms_dict[syn[0]] = [syn[1]]\n",
    "        else:\n",
    "            synonyms_dict[syn[0]].append(syn[1])\n",
    "        if syn[1] not in synonyms_dict:\n",
    "            synonyms_dict[syn[1]] = [syn[0]]\n",
    "        else:\n",
    "            synonyms_dict[syn[1]].append(syn[0])\n",
    "    \n",
    "    # function to perform depth first search\n",
    "    def dfs(word, target, visited):\n",
    "        if word == target:\n",
    "            return True\n",
    "        if word in visited:\n",
    "            return False\n",
    "        visited.append(word)\n",
    "        if word in synonyms_dict:\n",
    "            for syn in synonyms_dict[word]:\n",
    "                if dfs(syn, target, visited):\n",
    "                    return True\n",
    "        return False\n",
    "    \n",
    "    # compare the words in the sentences using dfs\n",
    "    for word1, word2 in zip(words1, words2):\n",
    "        if not dfs(word1, word2, []):\n",
    "            return False\n",
    "    return True\n",
    "\n",
    "# test the function\n",
    "synonyms = [(\"eat\", \"consume\"), (\"easy\", \"simple\"), (\"coach\", \"bus\"), (\"bus\", \"teacher\")]\n",
    "sentence1 = \"I like to eat pizza\"\n",
    "sentence2 = \"I like to consume pizza\"\n",
    "print(sentence_check_2(sentence1, sentence2, synonyms)) # should print True\n",
    "\n",
    "sentence1 = \"I am a bus\"\n",
    "sentence2 = \"I am a teacher\"\n",
    "print(sentence_check_2(sentence1, sentence2, synonyms)) # should print True\n"
   ]
  },
  {
   "cell_type": "code",
   "execution_count": null,
   "id": "e25c300b",
   "metadata": {},
   "outputs": [],
   "source": []
  },
  {
   "cell_type": "code",
   "execution_count": null,
   "id": "1f49d6dc",
   "metadata": {},
   "outputs": [],
   "source": []
  },
  {
   "cell_type": "code",
   "execution_count": null,
   "id": "e82e1559",
   "metadata": {},
   "outputs": [],
   "source": []
  },
  {
   "cell_type": "code",
   "execution_count": null,
   "id": "69308bf1",
   "metadata": {},
   "outputs": [],
   "source": []
  },
  {
   "cell_type": "code",
   "execution_count": null,
   "id": "dfc5e682",
   "metadata": {},
   "outputs": [],
   "source": []
  },
  {
   "cell_type": "code",
   "execution_count": null,
   "id": "333aa4f0",
   "metadata": {},
   "outputs": [],
   "source": []
  },
  {
   "cell_type": "code",
   "execution_count": null,
   "id": "db2e3dc0",
   "metadata": {},
   "outputs": [],
   "source": []
  }
 ],
 "metadata": {
  "kernelspec": {
   "display_name": "Python 3 (ipykernel)",
   "language": "python",
   "name": "python3"
  },
  "language_info": {
   "codemirror_mode": {
    "name": "ipython",
    "version": 3
   },
   "file_extension": ".py",
   "mimetype": "text/x-python",
   "name": "python",
   "nbconvert_exporter": "python",
   "pygments_lexer": "ipython3",
   "version": "3.8.12"
  }
 },
 "nbformat": 4,
 "nbformat_minor": 5
}
